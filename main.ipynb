{
 "cells": [
  {
   "attachments": {},
   "cell_type": "markdown",
   "metadata": {},
   "source": [
    "### Speech To Text Module\n"
   ]
  },
  {
   "cell_type": "code",
   "execution_count": 1,
   "metadata": {},
   "outputs": [],
   "source": [
    "import speech_recognition as sr\n",
    "from googletrans import Translator"
   ]
  },
  {
   "cell_type": "code",
   "execution_count": 7,
   "metadata": {},
   "outputs": [],
   "source": [
    "def Speech_to_Text():\n",
    "    # Initialize an empty language variable\n",
    "    lan = \"\"\n",
    "    \n",
    "    # Keep looping until a valid language is selected\n",
    "    while True:\n",
    "        # Initialize the speech recognizer\n",
    "        rec = sr.Recognizer()\n",
    "        \n",
    "        # Use the default microphone to listen for the language selection\n",
    "        with sr.Microphone() as a:\n",
    "            print(\"Select Language\")\n",
    "            lang = rec.listen(a)\n",
    "        \n",
    "        # Try to recognize the selected language using Google's speech recognition\n",
    "        try :\n",
    "            language = rec.recognize_google(lang).lower()\n",
    "            \n",
    "            # Set the appropriate language code based on the selected language\n",
    "            if language == \"telugu\":\n",
    "                lan = \"te\"\n",
    "            elif language == \"tamil\":\n",
    "                lan = \"ta\"\n",
    "            elif language == \"english\":\n",
    "                lan = \"en\"\n",
    "            \n",
    "            # Break out of the loop if a valid language was selected\n",
    "            if lan == \"ta\" or lan ==\"te\" or \"en\":\n",
    "                break\n",
    "        \n",
    "        # If the language couldn't be recognized, print an error message\n",
    "        except sr.UnknownValueError:\n",
    "            print(\"unknown error occurred\")\n",
    "\n",
    "    # Print out the selected language\n",
    "    print(f\"{language} selected\")\n",
    "    \n",
    "    # Keep looping until the program is interrupted\n",
    "    while True:\n",
    "        # Initialize the speech recognizer\n",
    "        r = sr.Recognizer()\n",
    "        \n",
    "        # Initialize the translator\n",
    "        translator = Translator()\n",
    "        \n",
    "        # Use the default microphone to listen for speech\n",
    "        with sr.Microphone() as source:\n",
    "            print(\"Listening...\")\n",
    "            audio = r.listen(source)\n",
    "            \n",
    "            # Try to recognize the speech and translate it to English\n",
    "            try:\n",
    "                # Recognize the speech in the selected language\n",
    "                MyText_te = r.recognize_google(audio,language=f\"{lan}-IN\")\n",
    "                print(MyText_te)\n",
    "                \n",
    "                # Translate the recognized speech to English\n",
    "                result_te = translator.translate(MyText_te,src=f\"{lan}\",dest='en')\n",
    "                print(result_te.text)\n",
    "            \n",
    "            # If the speech couldn't be recognized, print an error message\n",
    "            except sr.UnknownValueError:\n",
    "                print(\"unknown error occurred\")\n",
    "    \n",
    "    # Return the translated text\n",
    "    return result_te.text\n"
   ]
  },
  {
   "cell_type": "code",
   "execution_count": 17,
   "metadata": {},
   "outputs": [
    {
     "name": "stdout",
     "output_type": "stream",
     "text": [
      "Turn off or Switch off\n"
     ]
    }
   ],
   "source": [
    "def finite_automaton():\n",
    "    # Define the states of the automaton\n",
    "    states = [\"q0\", \"q1\", \"q2\", \"q3\", \"q4\"]\n",
    "\n",
    "    # Define the transitions of the automaton\n",
    "\n",
    "    transitions = [(\"q0\", \"q1\", \"turn\"),\n",
    "                    (\"q1\", \"q2\", \"on\"),\n",
    "                    (\"q1\", \"q3\", \"off\"),\n",
    "                    (\"q0\", \"q4\", \"switch\"),\n",
    "                    (\"q4\", \"q2\", \"on\"),\n",
    "                    (\"q4\", \"q3\", \"off\")]\n",
    "\n",
    "    # Define the final states of the automaton\n",
    "    final_states = [\"q2\", \"q3\"]\n",
    "    final_states_on = [\"q2\"]\n",
    "    final_states_off = [\"q3\"]\n",
    "\n",
    "    # Define the input string\n",
    "    input_string = \"turn off lights\"  # or \"turn off\", \"switch on\", or \"switch off\"\n",
    "\n",
    "    # Split the input string into a list of words\n",
    "    words = input_string.split(\" \")\n",
    "\n",
    "    # Initialize the current state to the start state\n",
    "    current_state = \"q0\"\n",
    "\n",
    "    # Iterate through the list of words\n",
    "    for word in words:\n",
    "        # Check if there is a transition from the current state with the current word\n",
    "        for (from_state, to_state, word_required) in transitions:\n",
    "            if from_state == current_state and word == word_required:\n",
    "                # If there is a valid transition, update the current state\n",
    "                current_state = to_state\n",
    "                break\n",
    "\n",
    "    # # Check if the current state is a final state\n",
    "    # if current_state in final_states:\n",
    "    #     print(\"Yes, Input string accepted by automaton!\")\n",
    "    #     # Trigger the appropriate action (e.g. turning on or off an appliance)\n",
    "    # else:\n",
    "    #     print(\"No, Input string not accepted by automaton.\")\n",
    "\n",
    "    if current_state in final_states_on:\n",
    "        print(\"Turn on or Switch on\")\n",
    "    elif current_state in final_states_off:\n",
    "        print(\"Turn off or Switch off\")\n"
   ]
  }
 ],
 "metadata": {
  "kernelspec": {
   "display_name": "speech-recog",
   "language": "python",
   "name": "python3"
  },
  "language_info": {
   "codemirror_mode": {
    "name": "ipython",
    "version": 3
   },
   "file_extension": ".py",
   "mimetype": "text/x-python",
   "name": "python",
   "nbconvert_exporter": "python",
   "pygments_lexer": "ipython3",
   "version": "3.8.15"
  },
  "orig_nbformat": 4,
  "vscode": {
   "interpreter": {
    "hash": "e15382867b9ab1d24acfc8e2ab920beae59c1f202d9fdfbc6392f1ebfe4bf5a4"
   }
  }
 },
 "nbformat": 4,
 "nbformat_minor": 2
}
